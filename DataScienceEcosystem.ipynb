{
 "cells": [
  {
   "cell_type": "markdown",
   "id": "02919a82",
   "metadata": {},
   "source": [
    "# Data Science Tools and Ecosystem "
   ]
  },
  {
   "cell_type": "markdown",
   "id": "5ae6ed16",
   "metadata": {},
   "source": [
    "In this notebook, Data Science Tools and Ecosystem are summarized."
   ]
  },
  {
   "cell_type": "markdown",
   "id": "bb79a97b",
   "metadata": {},
   "source": [
    "Some of the popular languages that Data Scientist use are:\n",
    "\n",
    "1.Python\n",
    "\n",
    "2.Sql\n",
    "\n",
    "3.R\n",
    "\n",
    "4.VBA\n",
    "\n",
    "5.Java\n",
    "\n",
    "6.Julia"
   ]
  },
  {
   "cell_type": "markdown",
   "id": "e748f374",
   "metadata": {},
   "source": [
    "Some of the commonly used libraries by Data Scientists include:\n",
    "\n",
    "1.Pandas\n",
    "\n",
    "2.Numpy\n",
    "\n",
    "3.Seaborn\n",
    "\n",
    "4.Scikit-learn\n",
    "\n",
    "5.scipy\n",
    "\n",
    "6.Matplotlib"
   ]
  },
  {
   "cell_type": "markdown",
   "id": "51f7185f",
   "metadata": {},
   "source": [
    "# Data Science Tools"
   ]
  },
  {
   "cell_type": "markdown",
   "id": "bb68b7dd",
   "metadata": {},
   "source": [
    "|Data Science Tools|\n",
    "|------------------|\n",
    "Microsoft powerbi|\n",
    "|Informatica|\n",
    "|Sql Server|\n",
    "|SPSS|\n",
    "|SAS|"
   ]
  },
  {
   "cell_type": "markdown",
   "id": "9dafa541",
   "metadata": {},
   "source": [
    "# Below the few examples of Arithemetic expression in python"
   ]
  },
  {
   "cell_type": "code",
   "execution_count": 1,
   "id": "458cc3fa",
   "metadata": {},
   "outputs": [
    {
     "data": {
      "text/plain": [
       "17"
      ]
     },
     "execution_count": 1,
     "metadata": {},
     "output_type": "execute_result"
    }
   ],
   "source": [
    "(3*4)+5"
   ]
  },
  {
   "cell_type": "code",
   "execution_count": 5,
   "id": "172bc2a6",
   "metadata": {},
   "outputs": [
    {
     "name": "stdout",
     "output_type": "stream",
     "text": [
      "3.3333333333333335\n"
     ]
    }
   ],
   "source": [
    "#In this code cell has converts minutes into hours\n",
    "hours = 200 /60\n",
    "print(hours)"
   ]
  },
  {
   "cell_type": "markdown",
   "id": "a22f2a4a",
   "metadata": {},
   "source": [
    "# Objectives\n",
    "\n",
    "-In this notebook covered the popular languages, tools and libraries which are used by the Data Scientist are,\n",
    "\n",
    "*Language are Python,Sql,R\n",
    "\n",
    "*Tools like Iformatica, sql server etc.,\n",
    "\n",
    "*Libraries are pandas,numpy, scikitlearn"
   ]
  },
  {
   "cell_type": "markdown",
   "id": "a1585c5c",
   "metadata": {},
   "source": [
    "# Author\n",
    "\n",
    "Srivithya\n",
    "\n",
    "Data Science Aspirants"
   ]
  }
 ],
 "metadata": {
  "kernelspec": {
   "display_name": "Python 3 (ipykernel)",
   "language": "python",
   "name": "python3"
  },
  "language_info": {
   "codemirror_mode": {
    "name": "ipython",
    "version": 3
   },
   "file_extension": ".py",
   "mimetype": "text/x-python",
   "name": "python",
   "nbconvert_exporter": "python",
   "pygments_lexer": "ipython3",
   "version": "3.9.12"
  }
 },
 "nbformat": 4,
 "nbformat_minor": 5
}
